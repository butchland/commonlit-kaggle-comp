{
 "cells": [
  {
   "cell_type": "code",
   "execution_count": 1,
   "id": "84286774-1af3-4772-b696-ca9c393bede1",
   "metadata": {},
   "outputs": [],
   "source": [
    "%reload_ext autoreload\n",
    "%autoreload 2"
   ]
  },
  {
   "cell_type": "code",
   "execution_count": 2,
   "id": "e8d94c28-6d4f-40a7-ab9e-56f602934753",
   "metadata": {},
   "outputs": [],
   "source": [
    "import pandas as pd"
   ]
  },
  {
   "cell_type": "code",
   "execution_count": 3,
   "id": "4d847474-ea5b-48bf-988d-d0ad5430b8e5",
   "metadata": {},
   "outputs": [
    {
     "name": "stdout",
     "output_type": "stream",
     "text": [
      "/home/butch2/play/kaggle/commmonlit/data\n"
     ]
    }
   ],
   "source": [
    "%cd ../data"
   ]
  },
  {
   "cell_type": "code",
   "execution_count": 4,
   "id": "55778997-7d39-402b-88ca-8d653d4b3590",
   "metadata": {},
   "outputs": [
    {
     "name": "stdout",
     "output_type": "stream",
     "text": [
      "commonlitreadabilityprize.zip  sample_submission.csv  test.csv\ttrain.csv\n"
     ]
    }
   ],
   "source": [
    "!ls "
   ]
  },
  {
   "cell_type": "code",
   "execution_count": 5,
   "id": "9ef42d53-3fa3-4017-82e6-0332e3e2d040",
   "metadata": {},
   "outputs": [],
   "source": [
    "df = pd.read_csv('train.csv')"
   ]
  },
  {
   "cell_type": "code",
   "execution_count": 6,
   "id": "50936e2f-2250-436a-b1ea-e471cba671b6",
   "metadata": {},
   "outputs": [
    {
     "data": {
      "text/html": [
       "<div>\n",
       "<style scoped>\n",
       "    .dataframe tbody tr th:only-of-type {\n",
       "        vertical-align: middle;\n",
       "    }\n",
       "\n",
       "    .dataframe tbody tr th {\n",
       "        vertical-align: top;\n",
       "    }\n",
       "\n",
       "    .dataframe thead th {\n",
       "        text-align: right;\n",
       "    }\n",
       "</style>\n",
       "<table border=\"1\" class=\"dataframe\">\n",
       "  <thead>\n",
       "    <tr style=\"text-align: right;\">\n",
       "      <th></th>\n",
       "      <th>id</th>\n",
       "      <th>url_legal</th>\n",
       "      <th>license</th>\n",
       "      <th>excerpt</th>\n",
       "      <th>target</th>\n",
       "      <th>standard_error</th>\n",
       "    </tr>\n",
       "  </thead>\n",
       "  <tbody>\n",
       "    <tr>\n",
       "      <th>0</th>\n",
       "      <td>c12129c31</td>\n",
       "      <td>NaN</td>\n",
       "      <td>NaN</td>\n",
       "      <td>When the young people returned to the ballroom...</td>\n",
       "      <td>-0.340259</td>\n",
       "      <td>0.464009</td>\n",
       "    </tr>\n",
       "    <tr>\n",
       "      <th>1</th>\n",
       "      <td>85aa80a4c</td>\n",
       "      <td>NaN</td>\n",
       "      <td>NaN</td>\n",
       "      <td>All through dinner time, Mrs. Fayre was somewh...</td>\n",
       "      <td>-0.315372</td>\n",
       "      <td>0.480805</td>\n",
       "    </tr>\n",
       "    <tr>\n",
       "      <th>2</th>\n",
       "      <td>b69ac6792</td>\n",
       "      <td>NaN</td>\n",
       "      <td>NaN</td>\n",
       "      <td>As Roger had predicted, the snow departed as q...</td>\n",
       "      <td>-0.580118</td>\n",
       "      <td>0.476676</td>\n",
       "    </tr>\n",
       "    <tr>\n",
       "      <th>3</th>\n",
       "      <td>dd1000b26</td>\n",
       "      <td>NaN</td>\n",
       "      <td>NaN</td>\n",
       "      <td>And outside before the palace a great garden w...</td>\n",
       "      <td>-1.054013</td>\n",
       "      <td>0.450007</td>\n",
       "    </tr>\n",
       "    <tr>\n",
       "      <th>4</th>\n",
       "      <td>37c1b32fb</td>\n",
       "      <td>NaN</td>\n",
       "      <td>NaN</td>\n",
       "      <td>Once upon a time there were Three Bears who li...</td>\n",
       "      <td>0.247197</td>\n",
       "      <td>0.510845</td>\n",
       "    </tr>\n",
       "  </tbody>\n",
       "</table>\n",
       "</div>"
      ],
      "text/plain": [
       "          id url_legal license  \\\n",
       "0  c12129c31       NaN     NaN   \n",
       "1  85aa80a4c       NaN     NaN   \n",
       "2  b69ac6792       NaN     NaN   \n",
       "3  dd1000b26       NaN     NaN   \n",
       "4  37c1b32fb       NaN     NaN   \n",
       "\n",
       "                                             excerpt    target  standard_error  \n",
       "0  When the young people returned to the ballroom... -0.340259        0.464009  \n",
       "1  All through dinner time, Mrs. Fayre was somewh... -0.315372        0.480805  \n",
       "2  As Roger had predicted, the snow departed as q... -0.580118        0.476676  \n",
       "3  And outside before the palace a great garden w... -1.054013        0.450007  \n",
       "4  Once upon a time there were Three Bears who li...  0.247197        0.510845  "
      ]
     },
     "execution_count": 6,
     "metadata": {},
     "output_type": "execute_result"
    }
   ],
   "source": [
    "df.head()"
   ]
  },
  {
   "cell_type": "code",
   "execution_count": 7,
   "id": "6baa5708-f567-4474-8f58-d29729fd01a9",
   "metadata": {},
   "outputs": [
    {
     "data": {
      "text/plain": [
       "Index(['id', 'url_legal', 'license', 'excerpt', 'target', 'standard_error'], dtype='object')"
      ]
     },
     "execution_count": 7,
     "metadata": {},
     "output_type": "execute_result"
    }
   ],
   "source": [
    "df.columns"
   ]
  },
  {
   "cell_type": "code",
   "execution_count": 27,
   "id": "33bf0a01-f954-4236-a4e9-6ce207b7fe1e",
   "metadata": {},
   "outputs": [
    {
     "data": {
      "text/plain": [
       "2834"
      ]
     },
     "execution_count": 27,
     "metadata": {},
     "output_type": "execute_result"
    }
   ],
   "source": [
    "len(df)"
   ]
  },
  {
   "cell_type": "code",
   "execution_count": 48,
   "id": "9ab92ffb-5e9c-4ad8-847e-53ddaca3915b",
   "metadata": {},
   "outputs": [
    {
     "data": {
      "text/plain": [
       "249    https://simple.wikipedia.org/wiki/Battle_of_Br...\n",
       "250    https://simple.wikipedia.org/wiki/Battle_of_Sa...\n",
       "251    https://simple.wikipedia.org/wiki/Battle_of_Wa...\n",
       "253               https://en.wikipedia.org/wiki/Big_data\n",
       "254              https://en.wikipedia.org/wiki/Biodiesel\n",
       "Name: url_legal, dtype: object"
      ]
     },
     "execution_count": 48,
     "metadata": {},
     "output_type": "execute_result"
    }
   ],
   "source": [
    "df[df.url_legal.notna()].head().url_legal"
   ]
  },
  {
   "cell_type": "code",
   "execution_count": 49,
   "id": "2c163b8f-477b-4cfd-88c8-ee85a49f0fd1",
   "metadata": {},
   "outputs": [
    {
     "data": {
      "text/plain": [
       "249    CC BY-SA 3.0 and GFDL\n",
       "250    CC BY-SA 3.0 and GFDL\n",
       "251    CC BY-SA 3.0 and GFDL\n",
       "253             CC BY-SA 3.0\n",
       "254             CC BY-SA 3.0\n",
       "Name: license, dtype: object"
      ]
     },
     "execution_count": 49,
     "metadata": {},
     "output_type": "execute_result"
    }
   ],
   "source": [
    "df[df.license.notna()].head().license"
   ]
  },
  {
   "cell_type": "code",
   "execution_count": 30,
   "id": "c1cec3af-5d39-4f1b-a0d9-853b50077287",
   "metadata": {},
   "outputs": [
    {
     "data": {
      "text/plain": [
       "2834"
      ]
     },
     "execution_count": 30,
     "metadata": {},
     "output_type": "execute_result"
    }
   ],
   "source": [
    "df.excerpt.isna().count()"
   ]
  },
  {
   "cell_type": "code",
   "execution_count": null,
   "id": "8ba61189-32ad-486d-a0b5-b39cc20317c7",
   "metadata": {},
   "outputs": [],
   "source": [
    "# drop license, url_legal, \n",
    "# "
   ]
  },
  {
   "cell_type": "markdown",
   "id": "b18d88bc-ff74-4d96-aa39-e64a0244e72c",
   "metadata": {},
   "source": [
    "## Look at what `target` could mean."
   ]
  },
  {
   "cell_type": "code",
   "execution_count": 22,
   "id": "aec74e03-e224-4b45-b32f-2862d7f4b878",
   "metadata": {},
   "outputs": [
    {
     "name": "stdout",
     "output_type": "stream",
     "text": [
      "When the young people returned to the ballroom, it presented a decidedly changed appearance. Instead of an interior scene, it was a winter landscape.\n",
      "The floor was covered with snow-white canvas, not laid on smoothly, but rumpled over bumps and hillocks, like a real snow field. The numerous palms and evergreens that had decorated the room, were powdered with flour and strewn with tufts of cotton, like snow. Also diamond dust had been lightly sprinkled on them, and glittering crystal icicles hung from the branches.\n",
      "At each end of the room, on the wall, hung a beautiful bear-skin rug.\n",
      "These rugs were for prizes, one for the girls and one for the boys. And this was the game.\n",
      "The girls were gathered at one end of the room and the boys at the other, and one end was called the North Pole, and the other the South Pole. Each player was given a small flag which they were to plant on reaching the Pole.\n",
      "This would have been an easy matter, but each traveller was obliged to wear snowshoes. -0.340259125 0.464009046\n"
     ]
    }
   ],
   "source": [
    "print(df.iloc[0].excerpt, df.iloc[0].target, df.iloc[0].standard_error)"
   ]
  },
  {
   "cell_type": "code",
   "execution_count": 10,
   "id": "4feecd39-fb28-459f-9988-d3af2cbbbcda",
   "metadata": {},
   "outputs": [
    {
     "data": {
      "text/plain": [
       "-2718.709394165"
      ]
     },
     "execution_count": 10,
     "metadata": {},
     "output_type": "execute_result"
    }
   ],
   "source": [
    "df.target.sum()"
   ]
  },
  {
   "cell_type": "code",
   "execution_count": 25,
   "id": "23cfbdec-5f27-48d6-a6f3-dbd4f3b72dae",
   "metadata": {},
   "outputs": [
    {
     "data": {
      "text/plain": [
       "0"
      ]
     },
     "execution_count": 25,
     "metadata": {},
     "output_type": "execute_result"
    }
   ],
   "source": [
    "df[df.target.isna()].target.count()"
   ]
  },
  {
   "cell_type": "code",
   "execution_count": 11,
   "id": "e201baad-c6cb-485d-a076-d9865cafb5a8",
   "metadata": {},
   "outputs": [
    {
     "data": {
      "text/plain": [
       "-0.9593187699947089"
      ]
     },
     "execution_count": 11,
     "metadata": {},
     "output_type": "execute_result"
    }
   ],
   "source": [
    "df.target.mean()"
   ]
  },
  {
   "cell_type": "code",
   "execution_count": 12,
   "id": "8a639054-bdc0-45fc-9eaa-949f7e98a498",
   "metadata": {},
   "outputs": [
    {
     "data": {
      "text/plain": [
       "1.711389827"
      ]
     },
     "execution_count": 12,
     "metadata": {},
     "output_type": "execute_result"
    }
   ],
   "source": [
    "df.target.max()"
   ]
  },
  {
   "cell_type": "code",
   "execution_count": 13,
   "id": "e69c3b61-b8f8-4bb1-a800-69da4757bd90",
   "metadata": {},
   "outputs": [
    {
     "data": {
      "text/plain": [
       "-3.676267773"
      ]
     },
     "execution_count": 13,
     "metadata": {},
     "output_type": "execute_result"
    }
   ],
   "source": [
    "df.target.min()"
   ]
  },
  {
   "cell_type": "code",
   "execution_count": 14,
   "id": "7b8a409f-d0a7-4bf0-b36e-8cf07cc27b65",
   "metadata": {},
   "outputs": [
    {
     "data": {
      "text/plain": [
       "<AxesSubplot:>"
      ]
     },
     "execution_count": 14,
     "metadata": {},
     "output_type": "execute_result"
    },
    {
     "data": {
      "image/png": "[encoded data removed]",
      "text/plain": [
       "<Figure size 432x288 with 1 Axes>"
      ]
     },
     "metadata": {
      "needs_background": "light"
     },
     "output_type": "display_data"
    }
   ],
   "source": [
    "df.target.plot()"
   ]
  },
  {
   "cell_type": "code",
   "execution_count": 50,
   "id": "c79e922e-98f6-4f5a-802e-88042e1e945d",
   "metadata": {},
   "outputs": [
    {
     "data": {
      "text/plain": [
       "2834"
      ]
     },
     "execution_count": 50,
     "metadata": {},
     "output_type": "execute_result"
    }
   ],
   "source": [
    "len(df[df.standard_error.notna()])"
   ]
  },
  {
   "cell_type": "code",
   "execution_count": 51,
   "id": "fb418694-b7ba-4e28-8007-614feed756b9",
   "metadata": {},
   "outputs": [
    {
     "data": {
      "text/plain": [
       "0.4914350909897673"
      ]
     },
     "execution_count": 51,
     "metadata": {},
     "output_type": "execute_result"
    }
   ],
   "source": [
    "df.standard_error.mean()"
   ]
  },
  {
   "cell_type": "code",
   "execution_count": 17,
   "id": "63405460-2284-4364-9a14-012e651d53a3",
   "metadata": {},
   "outputs": [
    {
     "name": "stdout",
     "output_type": "stream",
     "text": [
      "['When you think of dinosaurs and where they lived, what do you picture? Do you see hot, steamy swamps, thick jungles, or sunny plains? Dinosaurs lived in those places, yes. But did you know that some dinosaurs lived in the cold and the darkness near the North and South Poles?\\nThis surprised scientists, too. Paleontologists used to believe that dinosaurs lived only in the warmest parts of the world. They thought that dinosaurs could only have lived in places where turtles, crocodiles, and snakes live today. Later, these dinosaur scientists began finding bones in surprising places.\\nOne of those surprising fossil beds is a place called Dinosaur Cove, Australia. One hundred million years ago, Australia was connected to Antarctica. Both continents were located near the South Pole. Today, paleontologists dig dinosaur fossils out of the ground. They think about what those ancient bones must mean.']\n"
     ]
    }
   ],
   "source": [
    "print(df[df.target == df.target.max()].excerpt.values)"
   ]
  },
  {
   "cell_type": "code",
   "execution_count": 18,
   "id": "efb0594a-671a-44ae-907d-ec35b7639f02",
   "metadata": {},
   "outputs": [
    {
     "name": "stdout",
     "output_type": "stream",
     "text": [
      "['The commutator is peculiar, consisting of only three segments of a copper ring, while in the simplest of other continuous current generators several times that number exist, and frequently 120! segments are to be found. These three segments are made so as to be removable in a moment for cleaning or replacement. They are mounted upon a metal support, and are surrounded on all sides by a free air space, and cannot, therefore, lose their insulated condition. This feature of air insulation is peculiar to this system, and is very important as a factor in the durability of the commutator. Besides this, the commutator is sustained by supports carried in flanges upon the shaft, which flanges, as an additional safeguard, are coated all over with hard rubber, one of the finest known insulators. It may be stated, without fear of contradiction, that no other commutator made is so thoroughly insulated and protected. The three commutator segments virtually constitute a single copper ring, mounted in free air, and cut into three equal pieces by slots across its face.']\n"
     ]
    }
   ],
   "source": [
    "print(df[df.target == df.target.min()].excerpt.values)"
   ]
  },
  {
   "cell_type": "code",
   "execution_count": 20,
   "id": "41cec6bb-0991-484c-ab7b-44642b5554e5",
   "metadata": {},
   "outputs": [
    {
     "data": {
      "text/plain": [
       "1"
      ]
     },
     "execution_count": 20,
     "metadata": {},
     "output_type": "execute_result"
    }
   ],
   "source": [
    "df[df.target == 0].target.count()"
   ]
  },
  {
   "cell_type": "code",
   "execution_count": 21,
   "id": "4407da77-4ce1-4bdb-a33d-b6e960088b99",
   "metadata": {},
   "outputs": [
    {
     "name": "stdout",
     "output_type": "stream",
     "text": [
      "['The sun was shining in a cloudless sky, and no shadows lay on the mountain, and all day long they watched and waited, and at last, when the birds were singing their farewell song to the evening star, the children saw the shadows marching from the glen, trooping up the mountain side and dimming the purple of the heather.\\nAnd when the mountain top gleamed like a golden spear, they fixed their eyes on the line between the shadow and the sunshine.\\n\"Now,\" said Connla, \"the time has come.\"\\n\"Oh, look! look!\" said Nora, and as she spoke, just above the line of shadow a door opened out, and through its portals came a little piper dressed in green and gold. He stepped down, followed by another and another, until they were nine in all, and then the door slung back again.']\n"
     ]
    }
   ],
   "source": [
    "print(df[df.target == 0].excerpt.values)"
   ]
  },
  {
   "cell_type": "markdown",
   "id": "cbfa7ade-054b-4897-893d-79a1303453f1",
   "metadata": {},
   "source": [
    "## INITIAL Conclusions\n",
    " * lower target scores is more complex, higher target scores less complexity\n",
    " * low count of samples\n",
    "\n"
   ]
  },
  {
   "cell_type": "markdown",
   "id": "dcdd8ac3-9bab-4716-abfa-96a6c851c47b",
   "metadata": {},
   "source": [
    "## IDEAS\n",
    "\n",
    " * reading level complexity of a corpus is a combination of 1) vocabulary, 2) sentence construction, 3) paragraph construction.\n",
    " * approaches\n",
    "     - create a simple baseline model\n",
    "     - iterate quickly\n",
    "     - look at expanding corpus for lang model finetuning before training\n",
    "     - monitor overfitting\n",
    "     - submit only to check other day \n",
    "     - create own test set\n",
    "     - train/val/test split (70,20,10)\n",
    " "
   ]
  }
 ],
 "metadata": {
  "kernelspec": {
   "display_name": "Python 3 (ipykernel)",
   "language": "python",
   "name": "python3"
  },
  "language_info": {
   "codemirror_mode": {
    "name": "ipython",
    "version": 3
   },
   "file_extension": ".py",
   "mimetype": "text/x-python",
   "name": "python",
   "nbconvert_exporter": "python",
   "pygments_lexer": "ipython3",
   "version": "3.9.7"
  }
 },
 "nbformat": 4,
 "nbformat_minor": 5
}
